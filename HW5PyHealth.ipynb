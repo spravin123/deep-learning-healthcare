{
 "cells": [
  {
   "cell_type": "markdown",
   "id": "f274fa8a-c305-4c33-8f1d-b5c03129d82e",
   "metadata": {
    "deletable": false,
    "editable": false,
    "nbgrader": {
     "cell_type": "markdown",
     "checksum": "757d279cc932dbe48f0aaf2553816343",
     "grade": false,
     "grade_id": "cell-89df8d04c2c19513",
     "locked": true,
     "schema_version": 3,
     "solution": false,
     "task": false
    }
   },
   "source": [
    "# HW5: PyHealth\n",
    "\n",
    "## Overview\n",
    "\n",
    "PyHealth is an open-source Python package that provides an end-to-end pipeline for clinical predictive modeling.\n",
    "\n",
    "In PyHealth, each machine learning pipeline consists of five stages:\n",
    "\n",
    "> Dataset Processing → Define Healthcare Task → Build ML Model → Train ML Model → Inference & Evaluation\n",
    "\n",
    "These stages correspond to the following PyHealth modules: `pyhealth.datasets`, `pyhealth.tasks`, `pyhealth.models`, `pyhealth.trainer`, and `pyhealth.metrics`.\n",
    "\n",
    "This assignment will go through each of these modules and then integrate them into a complete five-stage ML pipeline.\n",
    "\n",
    "By completing this assignment, you will gain hands-on experience in building a full ML pipeline with PyHealth. You may also use this five-stage framework as a foundation for your final project."
   ]
  },
  {
   "cell_type": "markdown",
   "id": "af790106-dc50-4efc-9d55-16f5ebc360e6",
   "metadata": {
    "deletable": false,
    "editable": false,
    "nbgrader": {
     "cell_type": "markdown",
     "checksum": "00bfda26432427775f3de351d7319207",
     "grade": false,
     "grade_id": "cell-c0f8dfdd2f5f558b",
     "locked": true,
     "schema_version": 3,
     "solution": false,
     "task": false
    }
   },
   "source": [
    "---"
   ]
  },
  {
   "cell_type": "code",
   "execution_count": 54,
   "id": "a6daee67-df5a-47f0-91fc-63b77e267fea",
   "metadata": {
    "deletable": false,
    "editable": false,
    "nbgrader": {
     "cell_type": "code",
     "checksum": "44b3c85b8902d031ca753f6b4dc55a70",
     "grade": false,
     "grade_id": "cell-106aada15feaef46",
     "locked": true,
     "schema_version": 3,
     "solution": false,
     "task": false
    }
   },
   "outputs": [],
   "source": [
    "import random\n",
    "import numpy as np\n",
    "import torch\n",
    "import os\n",
    "\n",
    "\n",
    "seed = 1\n",
    "random.seed(seed)\n",
    "np.random.seed(seed)\n",
    "torch.manual_seed(seed)\n",
    "if torch.cuda.is_available():\n",
    "    torch.cuda.manual_seed(seed)\n",
    "    torch.cuda.manual_seed_all(seed)\n",
    "    torch.backends.cudnn.deterministic = True\n",
    "    torch.backends.cudnn.benchmark = False\n",
    "os.environ[\"PYTHONHASHSEED\"] = str(seed)"
   ]
  },
  {
   "cell_type": "code",
   "execution_count": 55,
   "id": "81b731db",
   "metadata": {
    "deletable": false,
    "editable": false,
    "nbgrader": {
     "cell_type": "code",
     "checksum": "d896f0a142bedeeaeec7232951455a24",
     "grade": false,
     "grade_id": "cell-7f7b3cee36e9463b",
     "locked": true,
     "schema_version": 3,
     "solution": false,
     "task": false
    }
   },
   "outputs": [],
   "source": [
    "# Set the MEMORY_FS_ROOT environment variable to a directory with sufficient space\n",
    "os.environ['MEMORY_FS_ROOT'] = \"/tmp/pandarallel_memory\""
   ]
  },
  {
   "cell_type": "markdown",
   "id": "b558f55d",
   "metadata": {
    "deletable": false,
    "editable": false,
    "nbgrader": {
     "cell_type": "markdown",
     "checksum": "1906391fe520bf815871edb6a8da00b7",
     "grade": false,
     "grade_id": "cell-a97f125123329970",
     "locked": true,
     "schema_version": 3,
     "solution": false,
     "task": false
    }
   },
   "source": [
    "## 1. Dataset Processing\n",
    "\n",
    "### The `pyhealth.datasets` Module\n",
    "\n",
    "The `pyhealth.datasets` module provides processing functions for various public EHR datasets, including MIMIC-III, MIMIC-IV, eICU, and all OMOP-CDM-based datasets. It transforms unstructured data into a unified structured object. Refer to the documentation: [PyHealth Datasets API](https://pyhealth.readthedocs.io/en/latest/api/datasets.html).\n",
    "\n",
    "#### Available Datasets\n",
    "\n",
    "The following dataset classes are currently supported:\n",
    "  - [MIMIC3Dataset](https://pyhealth.readthedocs.io/en/latest/api/datasets/pyhealth.datasets.MIMIC3Dataset.html)\n",
    "  - [MIMIC4Dataset](https://pyhealth.readthedocs.io/en/latest/api/datasets/pyhealth.datasets.MIMIC4Dataset.html)\n",
    "  - [eICUDataset](https://pyhealth.readthedocs.io/en/latest/api/datasets/pyhealth.datasets.eICUDataset.html)\n",
    "  - [OMOPDataset](https://pyhealth.readthedocs.io/en/latest/api/datasets/pyhealth.datasets.OMOPDataset.html): any OMOP-CDM based databases.\n",
    "\n",
    "#### Arguments\n",
    "  - `root`: Specifies the path to the data folder, e.g., `\"mimiciii/1.4/\"`.\n",
    "  - `tables`: A list of table names from the raw database, defining the data used to construct your dataset.\n",
    "  - `code_mapping` *(default: None)*: A dictionary specifying the new coding system for each data table.\n",
    "    - Example:\n",
    "      \n",
    "      `{\"ICD9CM\": \"CCSCM\"}`\n",
    "      \n",
    "      This converts ICD-9-CM codes to CCS-CM codes.\n",
    "      \n",
    "      Check supported code transformations [here](https://pyhealth.readthedocs.io/en/latest/api/medcode.html#diagnosis-codes).\n",
    "  - ``dev`` *(default: False)*: Enables dev mode (uses a small subset of the data for testing).\n",
    "  - ``refresh_cache`` *(default: False)*: If True, the dataset is reprocessed from scratch, updating the cache."
   ]
  },
  {
   "cell_type": "markdown",
   "id": "4d7d1d96-6b73-4f5b-a0e7-fe997490a69f",
   "metadata": {
    "deletable": false,
    "editable": false,
    "nbgrader": {
     "cell_type": "markdown",
     "checksum": "28c776139cebb294e088d11d7b601614",
     "grade": false,
     "grade_id": "cell-1de0d10b4e4a9194",
     "locked": true,
     "schema_version": 3,
     "solution": false,
     "task": false
    }
   },
   "source": [
    "### Example\n",
    "\n",
    "In the following example, we initialize a `MIMIC3Dataset` object using the synthetic MIMIC-III dataset hosted on Google Cloud Storage. Let’s break down each argument:\n",
    "\n",
    "- `root`: The path to the dataset, pointing to the publicly available synthetic MIMIC-III dataset.\n",
    "- `tables`: Specifies that we are only loading the `DIAGNOSES_ICD`, `PROCEDURES_ICD`, and `PRESCRIPTIONS` tables.\n",
    "- `code_mapping`: Converts ICD-9-CM codes to CCS-CM to group similar diagnoses.\n",
    "\n",
    "#### What Happens Internally?\n",
    "When you execute this code, `pyhealth.datasets.MIMIC3Dataset` performs the following steps:\n",
    "\n",
    "1. Loads the dataset from the given `root` directory.\n",
    "2. Extracts the specified tables (`DIAGNOSES_ICD`, `PROCEDURES_ICD`, `PRESCRIPTIONS`).\n",
    "3. Applies the code mapping transformation, converting ICD-9-CM codes into CCS-CM codes.\n",
    "4. Stores the processed dataset in a structured format that can be used for downstream machine learning tasks."
   ]
  },
  {
   "cell_type": "code",
   "execution_count": 56,
   "id": "64be212a-dc2e-4cee-b2e4-4f415cdcd171",
   "metadata": {
    "deletable": false,
    "editable": false,
    "nbgrader": {
     "cell_type": "code",
     "checksum": "8a134e8ca952467f09016a62b0f67487",
     "grade": false,
     "grade_id": "cell-cf15eabb50827414",
     "locked": true,
     "schema_version": 3,
     "solution": false,
     "task": false
    }
   },
   "outputs": [],
   "source": [
    "from pyhealth.datasets import MIMIC3Dataset\n",
    "\n",
    "\n",
    "example_dataset = MIMIC3Dataset(\n",
    "    root=\"https://storage.googleapis.com/pyhealth/Synthetic_MIMIC-III_subset/\",\n",
    "    tables=[\"DIAGNOSES_ICD\", \"PROCEDURES_ICD\", \"PRESCRIPTIONS\"],\n",
    "    code_mapping={\"ICD9CM\": \"CCSCM\"},\n",
    ")"
   ]
  },
  {
   "cell_type": "code",
   "execution_count": 57,
   "id": "f8e57a76-7a98-4ace-9d6c-d3493bb97d9d",
   "metadata": {
    "deletable": false,
    "editable": false,
    "nbgrader": {
     "cell_type": "code",
     "checksum": "6cd5d1334cdacf13c011733f8f9b3515",
     "grade": false,
     "grade_id": "cell-75d3714a03344822",
     "locked": true,
     "schema_version": 3,
     "solution": false,
     "task": false
    }
   },
   "outputs": [],
   "source": [
    "# Print the statistics of the dataset\n",
    "example_dataset.stat()"
   ]
  },
  {
   "cell_type": "code",
   "execution_count": 58,
   "id": "26723a96-7567-436a-81dd-9a03c24367d1",
   "metadata": {
    "deletable": false,
    "editable": false,
    "nbgrader": {
     "cell_type": "code",
     "checksum": "7622dbed398ec769e88a7bc29239de1a",
     "grade": false,
     "grade_id": "cell-9fcdd25ddefd9b34",
     "locked": true,
     "schema_version": 3,
     "solution": false,
     "task": false
    }
   },
   "outputs": [],
   "source": [
    "# Access a specific patient by their patient id\n",
    "example_dataset.patients[\"10025\"]"
   ]
  },
  {
   "cell_type": "code",
   "execution_count": 59,
   "id": "67721be6-0867-4791-9f0d-9cae027daea9",
   "metadata": {
    "deletable": false,
    "editable": false,
    "nbgrader": {
     "cell_type": "code",
     "checksum": "a186f432d3f00b8a2dd27c41bc8af184",
     "grade": false,
     "grade_id": "cell-5d0cd02879539e89",
     "locked": true,
     "schema_version": 3,
     "solution": false,
     "task": false
    }
   },
   "outputs": [],
   "source": [
    "# Access a specific visit by its visit id\n",
    "example_dataset.patients[\"10025\"].visits[\"110360\"]"
   ]
  },
  {
   "cell_type": "code",
   "execution_count": 60,
   "id": "83bac45a-3c60-4c53-b452-b63b9e976343",
   "metadata": {
    "deletable": false,
    "editable": false,
    "nbgrader": {
     "cell_type": "code",
     "checksum": "c238c86c32cbb405e0dbaaac45a31924",
     "grade": false,
     "grade_id": "cell-9cf35954e68807bb",
     "locked": true,
     "schema_version": 3,
     "solution": false,
     "task": false
    }
   },
   "outputs": [],
   "source": [
    "# Access all events of a certain type\n",
    "example_dataset.patients[\"10025\"].visits[\"110360\"].get_event_list(\"DIAGNOSES_ICD\")"
   ]
  },
  {
   "cell_type": "markdown",
   "id": "b7accd39-2772-4ee9-b25f-eef910039847",
   "metadata": {
    "deletable": false,
    "editable": false,
    "nbgrader": {
     "cell_type": "markdown",
     "checksum": "a08fe269948daac1cedfea8ecd1d2e3e",
     "grade": false,
     "grade_id": "cell-a7b966ce40f7d7eb",
     "locked": true,
     "schema_version": 3,
     "solution": false,
     "task": false
    }
   },
   "source": [
    "### TODO 1: Process the Synthetic MIMIC-III Data\n",
    "\n",
    "1. Load the synthetic MIMIC-III data from `https://storage.googleapis.com/pyhealth/Synthetic_MIMIC-III_subset/`.\n",
    "2. Extract the `DIAGNOSES_ICD`, `PROCEDURES_ICD`, `PRESCRIPTIONS` tables.\n",
    "3. Convert ICD-9-CM to CCS-CM, ICD-9-PROC to CCS-PROC, NDC to ATC codes."
   ]
  },
  {
   "cell_type": "code",
   "execution_count": 61,
   "id": "98d72ce6",
   "metadata": {
    "deletable": false
   },
   "outputs": [],
   "source": [
    "from pyhealth.datasets import MIMIC3Dataset\n",
    "\n",
    "\n",
    "\"\"\"\n",
    "TODO 1: Process the Synthetic MIMIC-III Data [20 points]\n",
    "\"\"\"\n",
    "mimic3_dataset = None\n",
    "# your code here\n",
    "mimic3_dataset = MIMIC3Dataset(\n",
    "    root=\"https://storage.googleapis.com/pyhealth/Synthetic_MIMIC-III_subset/\",\n",
    "    tables=[\"DIAGNOSES_ICD\", \"PROCEDURES_ICD\", \"PRESCRIPTIONS\"],\n",
    "    code_mapping={\"ICD9CM\": \"CCSCM\",\"ICD9PROC\":\"CCSPROC\",\"NDC\":\"ATC\"},\n",
    ")"
   ]
  },
  {
   "cell_type": "code",
   "execution_count": 62,
   "id": "35d82be7-e1c0-49f3-b56d-296949b8ec15",
   "metadata": {
    "deletable": false,
    "editable": false,
    "nbgrader": {
     "cell_type": "code",
     "checksum": "0a6d2e995bee7ea7578a5d5cacd8dc7c",
     "grade": true,
     "grade_id": "cell-5d45e82afa95d4ff",
     "locked": true,
     "points": 20,
     "schema_version": 3,
     "solution": false,
     "task": false
    }
   },
   "outputs": [],
   "source": [
    "'''\n",
    "AUTOGRADER CELL. DO NOT MODIFY THIS.\n",
    "'''\n",
    "\n",
    "assert set(mimic3_dataset.available_tables) == set([\"DIAGNOSES_ICD\", \"PROCEDURES_ICD\", \"PRESCRIPTIONS\"])\n",
    "num_of_patients = len(mimic3_dataset.patients)\n",
    "num_of_visits = sum([len(patient.visits) for idx, patient in mimic3_dataset.patients.items()])\n",
    "assert num_of_patients == 500\n",
    "assert num_of_visits == 1091\n",
    "assert mimic3_dataset.code_vocs == {\"conditions\": \"CCSCM\", \"procedures\": \"CCSPROC\", \"drugs\": \"ATC\"}\n",
    "\n"
   ]
  },
  {
   "cell_type": "markdown",
   "id": "5c208242",
   "metadata": {
    "deletable": false,
    "editable": false,
    "nbgrader": {
     "cell_type": "markdown",
     "checksum": "afca7b9ccf5cd8de101728756e312707",
     "grade": false,
     "grade_id": "cell-7e1634482e990cc5",
     "locked": true,
     "schema_version": 3,
     "solution": false,
     "task": false
    }
   },
   "source": [
    "## 2. Define Healthcare Task\n",
    "\n",
    "### The `pyhealth.tasks` Module\n",
    "\n",
    "The `pyhealth.tasks` module provides functions to define various healthcare ML tasks from EHR data. It transforms structured datasets into samples (features and labels) ready for model training. Refer to the documentation: [PyHealth Tasks API](https://pyhealth.readthedocs.io/en/latest/api/tasks.html).\n",
    "\n",
    "#### Available Tasks\n",
    "\n",
    "Some example predefined task functions include:\n",
    "\n",
    "- `mortality_prediction_mimic3_fn`: Predicts in-hospital mortality.\n",
    "- `length_of_stay_prediction_mimic3_fn`: Predicts the length of stay (LOS).\n",
    "- `drug_recommendation_mimic3_fn`: Recommends medications based on diagnoses and procedures.\n",
    "\n",
    "#### Arguments\n",
    "\n",
    "- `dataset.set_task()`: Converts the dataset into samples (features and labels).\n",
    "- `task_function`: A callable that defines how features and labels are generated from patient records."
   ]
  },
  {
   "cell_type": "markdown",
   "id": "c9fa2630-9115-42a1-8cdc-9a1cdc911060",
   "metadata": {
    "deletable": false,
    "editable": false,
    "nbgrader": {
     "cell_type": "markdown",
     "checksum": "357a29a29219dec286e5de9b1109db9e",
     "grade": false,
     "grade_id": "cell-fbc1df57413761ec",
     "locked": true,
     "schema_version": 3,
     "solution": false,
     "task": false
    }
   },
   "source": [
    "### Example\n",
    "\n",
    "The mortality prediction task is a common benchmark in clinical machine learning. It predicts whether a patient will survive or die during their hospital stay based on their medical records.\n",
    "\n",
    "- Input: Patient diagnoses, procedures, and medications from EHRs.\n",
    "- Output: Binary label (1 for deceased, 0 for survived).\n",
    "- Task Type: Binary Classification.\n",
    "\n",
    "#### What Happens Internally?\n",
    "\n",
    "The `mortality_prediction_mimic3_fn()` function generates labeled samples for a mortality prediction task using MIMIC-III patient records. It processes each patient's visits, using the current visit's diagnoses, procedures, and prescriptions to predict mortality at the next visit. The mortality label is determined from the next visit's discharge status (1 for deceased, 0 for survived). Visits without any medical codes are excluded. The function returns a list of labeled samples (patient_id, visit_id, conditions, procedures, drugs, and label) for binary classification (survival vs. death)."
   ]
  },
  {
   "cell_type": "code",
   "execution_count": 63,
   "id": "c2a9840e-97c7-41fe-a2c9-f9fbc9774cad",
   "metadata": {
    "deletable": false,
    "editable": false,
    "nbgrader": {
     "cell_type": "code",
     "checksum": "2ba713b9fb06908f818e0ca094442ad5",
     "grade": false,
     "grade_id": "cell-4bc149790bf43391",
     "locked": true,
     "schema_version": 3,
     "solution": false,
     "task": false
    }
   },
   "outputs": [],
   "source": [
    "from pyhealth.tasks import mortality_prediction_mimic3_fn\n",
    "\n",
    "\n",
    "example_samples = example_dataset.set_task(mortality_prediction_mimic3_fn)"
   ]
  },
  {
   "cell_type": "code",
   "execution_count": 64,
   "id": "8c3b24c0-e203-4704-aa04-ba194b12c93e",
   "metadata": {
    "deletable": false,
    "editable": false,
    "nbgrader": {
     "cell_type": "code",
     "checksum": "38723b66e50578c9d4fbcec96e5b3099",
     "grade": false,
     "grade_id": "cell-bdcd12769003a890",
     "locked": true,
     "schema_version": 3,
     "solution": false,
     "task": false
    }
   },
   "outputs": [],
   "source": [
    "# Print the statistics of the samples\n",
    "example_samples.stat()"
   ]
  },
  {
   "cell_type": "code",
   "execution_count": 65,
   "id": "294399fe-c48b-49a1-a5f9-5f8f0f41d81e",
   "metadata": {
    "deletable": false,
    "editable": false,
    "nbgrader": {
     "cell_type": "code",
     "checksum": "860ee96a6f94787f21c6d0263db9b91e",
     "grade": false,
     "grade_id": "cell-b3a5f161a4b6a131",
     "locked": true,
     "schema_version": 3,
     "solution": false,
     "task": false
    }
   },
   "outputs": [],
   "source": [
    "# Access a specific sample by index\n",
    "print(example_samples[0])"
   ]
  },
  {
   "cell_type": "code",
   "execution_count": 66,
   "id": "3bc6eb03-75a3-431f-a21a-c121a81d7f7e",
   "metadata": {
    "deletable": false,
    "editable": false,
    "nbgrader": {
     "cell_type": "code",
     "checksum": "028ce23e5078bbd2fef49e35fdb61ae5",
     "grade": false,
     "grade_id": "cell-2c82822141bf1a92",
     "locked": true,
     "schema_version": 3,
     "solution": false,
     "task": false
    }
   },
   "outputs": [],
   "source": [
    "# All information available for a specific sample\n",
    "print(example_samples[0].keys())"
   ]
  },
  {
   "cell_type": "markdown",
   "id": "2a121f2a",
   "metadata": {
    "deletable": false,
    "editable": false,
    "nbgrader": {
     "cell_type": "markdown",
     "checksum": "62b2673d45c51bfaca2e984c636f856b",
     "grade": false,
     "grade_id": "cell-8561d9c55e1d29c6",
     "locked": true,
     "schema_version": 3,
     "solution": false,
     "task": false
    }
   },
   "source": [
    "### TODO 2: Set the Readmission Prediction Task\n",
    "\n",
    "Call `set_task()` with the `mimic3_dataset` object to prepare samples for the readmission prediction task."
   ]
  },
  {
   "cell_type": "code",
   "execution_count": 67,
   "id": "6468da6a",
   "metadata": {
    "deletable": false
   },
   "outputs": [],
   "source": [
    "from pyhealth.tasks import readmission_prediction_mimic3_fn\n",
    "\n",
    "\n",
    "\"\"\"\n",
    "TODO 2: Set the Readmission Prediction Task [20 points]\n",
    "\"\"\"\n",
    "mimic3_samples = None\n",
    "# your code here\n",
    "mimic3_samples = mimic3_dataset.set_task(readmission_prediction_mimic3_fn)"
   ]
  },
  {
   "cell_type": "code",
   "execution_count": 68,
   "id": "3fef8c35-8c74-4f0f-b1da-34e4a0342430",
   "metadata": {
    "deletable": false,
    "editable": false,
    "nbgrader": {
     "cell_type": "code",
     "checksum": "9bee83479366859fb3688925d20efc5f",
     "grade": true,
     "grade_id": "cell-78b782c6e6cc4275",
     "locked": true,
     "points": 20,
     "schema_version": 3,
     "solution": false,
     "task": false
    }
   },
   "outputs": [],
   "source": [
    "'''\n",
    "AUTOGRADER CELL. DO NOT MODIFY THIS.\n",
    "'''\n",
    "\n",
    "assert len(mimic3_samples) == 409\n",
    "assert \"conditions\" in mimic3_samples[0].keys()\n",
    "assert \"procedures\" in mimic3_samples[0].keys()\n",
    "assert \"drugs\" in mimic3_samples[0].keys()\n",
    "assert \"visit_id\" in mimic3_samples[0].keys()\n",
    "assert \"patient_id\" in mimic3_samples[0].keys()\n",
    "num_positive_samples = sum([v[\"label\"] for v in mimic3_samples])\n",
    "assert num_positive_samples == 42\n",
    "\n"
   ]
  },
  {
   "cell_type": "markdown",
   "id": "e1b88487",
   "metadata": {
    "deletable": false,
    "editable": false,
    "nbgrader": {
     "cell_type": "markdown",
     "checksum": "df5c7503a0ace2dc1d9d59942612001b",
     "grade": false,
     "grade_id": "cell-88812a96b99ee5a4",
     "locked": true,
     "schema_version": 3,
     "solution": false,
     "task": false
    }
   },
   "source": [
    "### Data Splitting and Loading\n",
    "\n",
    "We will split the dataset into train, validation, and test sets. For this problem, we simply split by samples. Other spliting functions can be found [here](https://pyhealth.readthedocs.io/en/latest/api/datasets/pyhealth.datasets.splitter.html#).\n",
    "\n",
    "- The dataset is split into 60% training, 20% validation, and 20% test.\n",
    "\n",
    "- After splitting, we use the `get_dataloader` function to convert the datasets into PyTorch DataLoaders.\n",
    "\n",
    "- The training DataLoader enables shuffling to ensure better generalization, while validation and test DataLoaders do not shuffle the data."
   ]
  },
  {
   "cell_type": "code",
   "execution_count": 69,
   "id": "1540c0f8",
   "metadata": {
    "deletable": false,
    "editable": false,
    "nbgrader": {
     "cell_type": "code",
     "checksum": "e4a6c98d60dc89a6f2cb4fdfe7bdb6df",
     "grade": false,
     "grade_id": "cell-bd286f5472f79a15",
     "locked": true,
     "schema_version": 3,
     "solution": false,
     "task": false
    }
   },
   "outputs": [],
   "source": [
    "from pyhealth.datasets import split_by_sample, get_dataloader\n",
    "\n",
    "\n",
    "# Data split\n",
    "example_train_samples, example_val_samples, example_test_samples = split_by_sample(example_samples, [0.6, 0.2, 0.2])\n",
    "\n",
    "# Create dataloaders\n",
    "example_train_loader = get_dataloader(example_train_samples, batch_size=64, shuffle=True)\n",
    "example_val_loader = get_dataloader(example_val_samples, batch_size=64, shuffle=False)\n",
    "example_test_loader = get_dataloader(example_test_samples, batch_size=64, shuffle=False)"
   ]
  },
  {
   "cell_type": "markdown",
   "id": "622f0fd7-8614-4905-9cc0-3be8848ec44e",
   "metadata": {
    "deletable": false,
    "editable": false,
    "nbgrader": {
     "cell_type": "markdown",
     "checksum": "2ff303d8d79fa97896d162f2284eb921",
     "grade": false,
     "grade_id": "cell-b54502cb02c514bf",
     "locked": true,
     "schema_version": 3,
     "solution": false,
     "task": false
    }
   },
   "source": [
    "Similaraly for the `mimic3_samples` we just created."
   ]
  },
  {
   "cell_type": "code",
   "execution_count": 70,
   "id": "8893293d-22f4-4584-9101-ad73ba975379",
   "metadata": {
    "deletable": false,
    "editable": false,
    "nbgrader": {
     "cell_type": "code",
     "checksum": "03f140d958fb64c30e1d9a12c57eda2a",
     "grade": false,
     "grade_id": "cell-ffbf814a01158a21",
     "locked": true,
     "schema_version": 3,
     "solution": false,
     "task": false
    }
   },
   "outputs": [],
   "source": [
    "# Data split\n",
    "mimic3_train_samples, mimic3_val_samples, mimic3_test_samples = split_by_sample(mimic3_samples, [0.6, 0.2, 0.2])\n",
    "\n",
    "# Create dataloaders\n",
    "mimic3_train_loader = get_dataloader(mimic3_train_samples, batch_size=64, shuffle=True)\n",
    "mimic3_val_loader = get_dataloader(mimic3_val_samples, batch_size=64, shuffle=False)\n",
    "mimic3_test_loader = get_dataloader(mimic3_test_samples, batch_size=64, shuffle=False)"
   ]
  },
  {
   "cell_type": "markdown",
   "id": "ac41079f",
   "metadata": {
    "deletable": false,
    "editable": false,
    "nbgrader": {
     "cell_type": "markdown",
     "checksum": "44d5ce07ea3d4aea799627e0bcdb14e6",
     "grade": false,
     "grade_id": "cell-a0391b35d418d91a",
     "locked": true,
     "schema_version": 3,
     "solution": false,
     "task": false
    }
   },
   "source": [
    "## 3. Build ML Model\n",
    "\n",
    "### The `pyhealth.models` Module\n",
    "\n",
    "The `pyhealth.models` module provides common deep learning models such as RNN, CNN, and Transformer, along with specialized healthcare models like RETAIN, SafeDrug, and GAMENet. Most models can be applied to a wide range of healthcare prediction tasks, except for a few task-specific models (e.g., GAMENet, SafeDrug, and MICRON, which are designed exclusively for drug recommendation). Refer to the documentation: [PyHealth Models API](https://pyhealth.readthedocs.io/en/latest/api/models.html).\n",
    "\n",
    "#### Arguments\n",
    "Each deep learning model in `pyhealth.models` follows a standard set of arguments:\n",
    "\n",
    "- `dataset`: A `pyhealth.datasets.SampleDataset` object (output from the dataset processing step).\n",
    "- `feature_keys`: A list of feature variables (strings), defined in the task function (e.g., \"conditions\").\n",
    "- `label_key`: The target variable, defined in the task function (e.g., \"label\").\n",
    "- `mode`: Specifies the type of prediction task:\n",
    "  - `\"multiclass\"` (e.g., length-of-stay classification)\n",
    "  - `\"multilabel\"` (e.g., drug recommendation)\n",
    "  - `\"binary\"` (e.g., mortality prediction)\n",
    "- Other model-specific arguments: Such as `dropout`, `num_layers`, and `hidden_layer` dimensions."
   ]
  },
  {
   "cell_type": "markdown",
   "id": "e1a472fd-4d16-4fda-993f-a248882f8001",
   "metadata": {
    "deletable": false,
    "editable": false,
    "nbgrader": {
     "cell_type": "markdown",
     "checksum": "09ae76eebfb28358489f93082c100ac7",
     "grade": false,
     "grade_id": "cell-3f6cb8261987d9e4",
     "locked": true,
     "schema_version": 3,
     "solution": false,
     "task": false
    }
   },
   "source": [
    "### Example\n",
    "\n",
    "Recurrent Neural Networks (RNNs) are widely used in clinical machine learning due to their ability to capture temporal dependencies in sequential patient data. In this example, we use an RNN model to predict a patient’s mortality based on their past medical history.\n",
    "\n",
    "#### What Happens Internally?\n",
    "\n",
    "The RNN model processes patient record by applying a separate RNN layer to each feature type (e.g., conditions, procedures, drugs). The final hidden states from each RNN are concatenated into a patient representation vector. A fully connected layer takes the patient representation and predicts patient mortality."
   ]
  },
  {
   "cell_type": "code",
   "execution_count": 71,
   "id": "15c091e6-d467-4600-988a-e8deadd9f2d4",
   "metadata": {
    "deletable": false,
    "editable": false,
    "nbgrader": {
     "cell_type": "code",
     "checksum": "e6b2e48df197d445e7ec0e28205b5ab6",
     "grade": false,
     "grade_id": "cell-20971a8b9a7d45ba",
     "locked": true,
     "schema_version": 3,
     "solution": false,
     "task": false
    }
   },
   "outputs": [],
   "source": [
    "# Each sample in the dataset contains the following information\n",
    "print(example_samples[0].keys())"
   ]
  },
  {
   "cell_type": "markdown",
   "id": "4c0a3fea-8e9b-4e07-8c67-8fd7a023c134",
   "metadata": {
    "deletable": false,
    "editable": false,
    "nbgrader": {
     "cell_type": "markdown",
     "checksum": "9ed472ed419c16e4e1ea7d761f6dd649",
     "grade": false,
     "grade_id": "cell-85eb8b0e52eccd48",
     "locked": true,
     "schema_version": 3,
     "solution": false,
     "task": false
    }
   },
   "source": [
    "We set `feature_keys` to `[\"conditions\", \"procedures\", \"drugs\"]`, which are the input features.\n",
    "\n",
    "We set `label_key` to `\"label\"`, which represents the patient mortality."
   ]
  },
  {
   "cell_type": "code",
   "execution_count": 72,
   "id": "3b0ac395-6274-4b4b-b932-3955f6a21f6d",
   "metadata": {
    "deletable": false,
    "editable": false,
    "nbgrader": {
     "cell_type": "code",
     "checksum": "91839abe2920a6718b711cf660bc75e0",
     "grade": false,
     "grade_id": "cell-a114c54562f31f25",
     "locked": true,
     "schema_version": 3,
     "solution": false,
     "task": false
    }
   },
   "outputs": [],
   "source": [
    "from pyhealth.models import RNN\n",
    "\n",
    "\n",
    "example_rnn = RNN(\n",
    "    dataset=example_samples,\n",
    "    feature_keys=[\"conditions\", \"procedures\", \"drugs\"],\n",
    "    label_key=\"label\",\n",
    "    mode=\"binary\",\n",
    ")"
   ]
  },
  {
   "cell_type": "code",
   "execution_count": 73,
   "id": "9db72afe-6d87-408a-9e41-781beb6be23b",
   "metadata": {
    "deletable": false,
    "editable": false,
    "nbgrader": {
     "cell_type": "code",
     "checksum": "854342f7a92d9d8a0807a8910f4b83be",
     "grade": false,
     "grade_id": "cell-8de7e4ef65567d0a",
     "locked": true,
     "schema_version": 3,
     "solution": false,
     "task": false
    }
   },
   "outputs": [],
   "source": [
    "# Architecture of RNN\n",
    "example_rnn"
   ]
  },
  {
   "cell_type": "markdown",
   "id": "4f34c9dd",
   "metadata": {
    "deletable": false,
    "editable": false,
    "nbgrader": {
     "cell_type": "markdown",
     "checksum": "fa71c21a23b2649042e9960a7cb4b000",
     "grade": false,
     "grade_id": "cell-03df95ef47ab9354",
     "locked": true,
     "schema_version": 3,
     "solution": false,
     "task": false
    }
   },
   "source": [
    "### TODO 3: Build A RNN Model\n",
    "\n",
    "1. Initialize a `RNN` model from `pyhealth.models`.\n",
    "2. Use the `mimic3_samples` dataset we just created.\n",
    "3. Predict readmission from conditions, procedures, and drugs."
   ]
  },
  {
   "cell_type": "code",
   "execution_count": 74,
   "id": "8a7940ca",
   "metadata": {
    "deletable": false
   },
   "outputs": [],
   "source": [
    "\"\"\"\n",
    "TODO 3: Build A RNN Model [20 Points]\n",
    "\"\"\"\n",
    "mimic3_rnn = None\n",
    "# your code here\n",
    "mimic3_rnn = RNN(\n",
    "    dataset=mimic3_samples,\n",
    "    feature_keys=[\"conditions\", \"procedures\", \"drugs\"],\n",
    "    label_key=\"label\",\n",
    "    mode=\"binary\",\n",
    ")\n",
    "\n",
    "# Print the architecture\n",
    "print(mimic3_rnn)"
   ]
  },
  {
   "cell_type": "code",
   "execution_count": 75,
   "id": "7c437cdb",
   "metadata": {
    "deletable": false,
    "editable": false,
    "nbgrader": {
     "cell_type": "code",
     "checksum": "6b13ab416ec23804cae83253aeba0953",
     "grade": true,
     "grade_id": "cell-4f3127f2f076cb79",
     "locked": true,
     "points": 20,
     "schema_version": 3,
     "solution": false,
     "task": false
    }
   },
   "outputs": [],
   "source": [
    "'''\n",
    "AUTOGRADER CELL. DO NOT MODIFY THIS.\n",
    "'''\n",
    "\n",
    "assert str(type(mimic3_rnn)) == \"<class 'pyhealth.models.rnn.RNN'>\"\n",
    "assert set(mimic3_rnn.feature_keys) == set(['conditions', 'procedures', 'drugs'])\n",
    "assert mimic3_rnn.label_key == \"label\"\n",
    "assert mimic3_rnn.mode == \"binary\"\n",
    "assert mimic3_rnn.embeddings[\"conditions\"].num_embeddings == 223\n",
    "assert mimic3_rnn.embeddings[\"procedures\"].num_embeddings == 131\n",
    "assert mimic3_rnn.embeddings[\"drugs\"].num_embeddings == 391\n",
    "\n"
   ]
  },
  {
   "cell_type": "markdown",
   "id": "9d6fb06a",
   "metadata": {
    "deletable": false,
    "editable": false,
    "nbgrader": {
     "cell_type": "markdown",
     "checksum": "75fbf4b945d37e5f41cab61ac874bdc2",
     "grade": false,
     "grade_id": "cell-78db002fb2cf3c6e",
     "locked": true,
     "schema_version": 3,
     "solution": false,
     "task": false
    }
   },
   "source": [
    "## 4. Train Model\n",
    "\n",
    "### The `pyhealth.trainer` Module\n",
    "The `pyhealth.trainer` module serves as the training handler for deep learning models. It provides a streamlined workflow for model training, including logging, checkpointing, and performance monitoring.  Refer to the documentation: [pyhealth.trainer](https://pyhealth.readthedocs.io/en/latest/api/trainer.html).\n",
    "\n",
    "#### Arguments\n",
    "To initialize a `Trainer` instance, the following parameters can be specified:\n",
    "- `model`: The PyHealth model to train (e.g., an instance of `pyhealth.models.RNN`).\n",
    "- `checkpoint_path` (optional): Path to save intermediate model checkpoints.\n",
    "- `metrics` (optional): A list of metrics to track during training (e.g., \"pr_auc\", \"auc_roc\").\n",
    "- `device` (optional): Specifies whether to train on CPU or GPU.\n",
    "- `enable_logging` (optional): Enables logging for monitoring training progress.\n",
    "- `output_path` (optional): Directory to store training outputs and logs.\n",
    "- `exp_name` (optional): Name of the experiment or task for tracking purposes.\n",
    "\n",
    "#### Trainer Functionality\n",
    "The core training process is handled by the `Trainer.train()` method, which requires the following parameters:\n",
    "\n",
    "- Data Loaders:\n",
    "  - `train_dataloader`: The training dataset loader.\n",
    "  - `val_dataloader`: The validation dataset loader.\n",
    "- Training Hyperparameters:\n",
    "  - `epochs`: Number of epochs to train the model.\n",
    "  - `optimizer_class` (optional): The optimizer (e.g., torch.optim.Adam).\n",
    "  - `optimizer_params` (optional): Parameters for the optimizer, including:\n",
    "  - `lr` (optional): Learning rate.\n",
    "  - `weight_decay` (optional): Weight decay for regularization.\n",
    "  - `max_grad_norm` (optional): Maximum gradient norm for gradient clipping.\n",
    "- Monitoring & Model Selection:\n",
    "  - `monitor`: Metric to monitor (e.g., \"auc_roc\").\n",
    "  - `monitor_criterion` (optional): Whether to maximize or minimize the monitored metric (\"max\" by default).\n",
    "  - `load_best_model_at_last` (optional): Whether to automatically load the best-performing model at the end of training."
   ]
  },
  {
   "cell_type": "markdown",
   "id": "3e9036ba-53ec-4382-820d-63ce45a2b032",
   "metadata": {
    "deletable": false,
    "editable": false,
    "nbgrader": {
     "cell_type": "markdown",
     "checksum": "8d82f907fe4845e28248508f25ea896d",
     "grade": false,
     "grade_id": "cell-dd6c8c6dc365e579",
     "locked": true,
     "schema_version": 3,
     "solution": false,
     "task": false
    }
   },
   "source": [
    "### Example\n",
    "\n",
    "We define a `Trainer` class to train the RNN model we just created. Then, we train the model using the `train()` function.\n",
    "\n",
    "#### What Happens Internally?\n",
    "1. Loads the train_loader and val_loader for batch-wise training.\n",
    "2. Tracks performance using PR-AUC and ROC-AUC.\n",
    "3. Saves model checkpoints during training.\n",
    "4. Logs training details for reproducibility.\n",
    "5. The model with the best AUC-ROC is automatically loaded at the end of training."
   ]
  },
  {
   "cell_type": "code",
   "execution_count": 76,
   "id": "64065974-695c-490f-8230-291d6382e5bf",
   "metadata": {
    "deletable": false,
    "editable": false,
    "nbgrader": {
     "cell_type": "code",
     "checksum": "a472de8b0fc4cb2eac155cfd4c02e98e",
     "grade": false,
     "grade_id": "cell-188016b08fafdff1",
     "locked": true,
     "schema_version": 3,
     "solution": false,
     "task": false
    }
   },
   "outputs": [],
   "source": [
    "from pyhealth.trainer import Trainer\n",
    "\n",
    "\n",
    "# Initialize the Trainer\n",
    "example_trainer = Trainer(\n",
    "    model=example_rnn,\n",
    "    metrics=[\"pr_auc\", \"roc_auc\"],\n",
    "    device=\"cpu\",\n",
    ")"
   ]
  },
  {
   "cell_type": "code",
   "execution_count": 77,
   "id": "0ac428e3-989f-4da0-a19a-31355d439e0a",
   "metadata": {
    "deletable": false,
    "editable": false,
    "nbgrader": {
     "cell_type": "code",
     "checksum": "e1774f793178dc75d7a8b5813617bdfb",
     "grade": false,
     "grade_id": "cell-916320404466e77f",
     "locked": true,
     "schema_version": 3,
     "solution": false,
     "task": false
    }
   },
   "outputs": [],
   "source": [
    "# Train the model\n",
    "example_trainer.train(\n",
    "    train_dataloader=example_train_loader,  # Training data\n",
    "    val_dataloader=example_val_loader,  # Validation data\n",
    "    epochs=20,  # Number of training epochs\n",
    "    optimizer_class=torch.optim.Adam,  # Optimizer choice\n",
    "    optimizer_params={\"lr\": 0.001, \"weight_decay\": 1e-5},  # Optimizer parameters\n",
    "    max_grad_norm=5.0,  # Gradient clipping\n",
    "    monitor=\"roc_auc\",  # Monitor AUC-ROC for best model selection\n",
    "    monitor_criterion=\"max\",  # Maximize AUC-ROC during training\n",
    "    load_best_model_at_last=True,  # Automatically load the best-performing model\n",
    ")"
   ]
  },
  {
   "cell_type": "markdown",
   "id": "0c21d411-2314-43c7-9a96-4c881c6f3f84",
   "metadata": {
    "collapsed": true,
    "deletable": false,
    "editable": false,
    "jupyter": {
     "outputs_hidden": true
    },
    "nbgrader": {
     "cell_type": "markdown",
     "checksum": "4eb8aa0d9de223625aaf8119027d0724",
     "grade": false,
     "grade_id": "cell-ca0e8d7df1f35004",
     "locked": true,
     "schema_version": 3,
     "solution": false,
     "task": false
    }
   },
   "source": [
    "### TODO 4: Train the RNN Model\n",
    "\n",
    "Let us train the `mimic3_rnn` model we created on the readmission task. \n",
    "\n",
    "1. Set Up the Trainer\n",
    "- Use `pyhealth.trainer.Trainer` for model training.\n",
    "- Monitor `roc_auc`, `pr_auc`, and `f1` scores to track training performance.\n",
    "\n",
    "2. Train the Model\n",
    "- Call `trainer.train()` with the `mimic3_*_loader`\n",
    "- Train for 20 epochs.\n",
    "- Use Adam optimizer.\n",
    "- Set `lr` to 0.001.\n",
    "- Monitor `roc_auc` score for model selection\n",
    "- Automatically load the best-performing model."
   ]
  },
  {
   "cell_type": "code",
   "execution_count": 78,
   "id": "f60b636e-43ef-45bd-8f7e-26416f000673",
   "metadata": {
    "deletable": false
   },
   "outputs": [],
   "source": [
    "\"\"\"\n",
    "TODO 4: Train the RNN Model [20 Points]\n",
    "\"\"\"\n",
    "# Set up the Trainer\n",
    "mimic3_trainer = Trainer(\n",
    "    model=mimic3_rnn,\n",
    "    metrics=[\"pr_auc\",\"roc_auc\",\"f1\"],\n",
    "    device=\"cpu\",\n",
    ")"
   ]
  },
  {
   "cell_type": "code",
   "execution_count": 86,
   "id": "e1a06687-734f-4680-99d3-5d887421de58",
   "metadata": {
    "deletable": false
   },
   "outputs": [],
   "source": [
    "\"\"\"\n",
    "TODO 4: Train the RNN Model [20 Points]\n",
    "\"\"\"\n",
    "# Train the model\n",
    "mimic3_trainer.train(\n",
    "    train_dataloader=mimic3_train_loader,  # Training data\n",
    "    val_dataloader=mimic3_val_loader,  # Validation data\n",
    "    epochs=20,  # Number of training epochs\n",
    "    optimizer_class=torch.optim.Adam,  # Optimizer choice\n",
    "    optimizer_params={\"lr\": 0.001},  # Optimizer parameters\n",
    "    max_grad_norm=5.0,  # Gradient clipping\n",
    "    monitor=\"roc_auc\",  # Monitor AUC-ROC for best model selection\n",
    "    monitor_criterion=\"max\",  # Maximize AUC-ROC during training\n",
    "    load_best_model_at_last=True,  # Automatically load the best-performing model\n",
    ")"
   ]
  },
  {
   "cell_type": "code",
   "execution_count": 87,
   "id": "92b195d3",
   "metadata": {
    "deletable": false,
    "editable": false,
    "nbgrader": {
     "cell_type": "code",
     "checksum": "dae704f73dd2d666eaeea7a9c6efb7e6",
     "grade": true,
     "grade_id": "cell-fd363a8bd7ed0981",
     "locked": true,
     "points": 20,
     "schema_version": 3,
     "solution": false,
     "task": false
    }
   },
   "outputs": [],
   "source": [
    "'''\n",
    "AUTOGRADER CELL. DO NOT MODIFY THIS.\n",
    "'''\n",
    "\n",
    "assert str(type(mimic3_trainer.model)) == \"<class 'pyhealth.models.rnn.RNN'>\"\n",
    "assert set(mimic3_trainer.metrics) == set([\"roc_auc\", \"pr_auc\", \"f1\"])\n",
    "\n"
   ]
  },
  {
   "cell_type": "markdown",
   "id": "85d34085",
   "metadata": {
    "deletable": false,
    "editable": false,
    "nbgrader": {
     "cell_type": "markdown",
     "checksum": "8782f8987261163e5bb6098d37cf1267",
     "grade": false,
     "grade_id": "cell-ffd808dca368bf73",
     "locked": true,
     "schema_version": 3,
     "solution": false,
     "task": false
    }
   },
   "source": [
    "## 5. Model Evaluation\n",
    "\n",
    "### One-line Evaluation\n",
    "\n",
    "The `Trainer` class provides the `.evaluate(data_loader)` method to compute performance metrics on any test dataset. This will output a dictionary containing the evaluation metrics (e.g., `\"pr_auc\"`, `\"auc_roc\"`, `\"loss\"`, etc.)."
   ]
  },
  {
   "cell_type": "markdown",
   "id": "2ad466fd",
   "metadata": {
    "deletable": false,
    "editable": false,
    "nbgrader": {
     "cell_type": "markdown",
     "checksum": "b38d0152ca7e8d10ead02823111cd4e9",
     "grade": false,
     "grade_id": "cell-5636aa1231c438ad",
     "locked": true,
     "schema_version": 3,
     "solution": false,
     "task": false
    }
   },
   "source": [
    "### Example"
   ]
  },
  {
   "cell_type": "code",
   "execution_count": 88,
   "id": "ed7cd515",
   "metadata": {
    "deletable": false,
    "editable": false,
    "nbgrader": {
     "cell_type": "code",
     "checksum": "1b15a4564c44b31fd020374c7a0251a1",
     "grade": false,
     "grade_id": "cell-3985d930b460b047",
     "locked": true,
     "schema_version": 3,
     "solution": false,
     "task": false
    }
   },
   "outputs": [],
   "source": [
    "example_results = example_trainer.evaluate(example_test_loader)\n",
    "print(example_results)"
   ]
  },
  {
   "cell_type": "markdown",
   "id": "0eb0545e-92ac-4e7d-9bb8-a65a7b084b70",
   "metadata": {
    "deletable": false,
    "editable": false,
    "nbgrader": {
     "cell_type": "markdown",
     "checksum": "9e722fa08d2bfae4126eb8cb5d95f6ee",
     "grade": false,
     "grade_id": "cell-ca1f97d26ec5ddbc",
     "locked": true,
     "schema_version": 3,
     "solution": false,
     "task": false
    }
   },
   "source": [
    "### TODO 5: Evaluate the RNN Model\n",
    "\n",
    "In this step, we will evaluate the trained RNN model on the test dataset using the `.evaluate()` method from `Trainer`. This will compute key binary classification metrics to assess the model’s performance."
   ]
  },
  {
   "cell_type": "code",
   "execution_count": 89,
   "id": "20c21b6b",
   "metadata": {
    "deletable": false
   },
   "outputs": [],
   "source": [
    "\"\"\"\n",
    "TODO 5: Evaluate the RNN Model [20 points]\n",
    "\"\"\"\n",
    "\n",
    "mimic3_results = None\n",
    "# your code here\n",
    "mimic3_results = mimic3_trainer.evaluate(mimic3_test_loader)\n",
    "\n",
    "# Print evaluation metrics\n",
    "print(\"MIMIC-III Test Set Evaluation Metrics:\", mimic3_results)"
   ]
  },
  {
   "cell_type": "code",
   "execution_count": 90,
   "id": "ffe2cb6a-f3a3-4aef-a3a4-0cb0af04ded0",
   "metadata": {
    "deletable": false,
    "editable": false,
    "nbgrader": {
     "cell_type": "code",
     "checksum": "67df6d19c25ca163ec01f4c07f12ca3f",
     "grade": true,
     "grade_id": "cell-dd5d328560df9fbb",
     "locked": true,
     "points": 20,
     "schema_version": 3,
     "solution": false,
     "task": false
    }
   },
   "outputs": [],
   "source": [
    "'''\n",
    "AUTOGRADER CELL. DO NOT MODIFY THIS.\n",
    "'''\n",
    "\n",
    "assert \"roc_auc\" in mimic3_results\n",
    "assert \"pr_auc\" in mimic3_results\n",
    "assert \"f1\" in mimic3_results\n",
    "assert mimic3_results['roc_auc'] > 0.55\n",
    "\n"
   ]
  },
  {
   "cell_type": "code",
   "execution_count": null,
   "id": "78d12b3d-40ab-47a7-ad0d-befca1035803",
   "metadata": {},
   "outputs": [],
   "source": []
  }
 ],
 "metadata": {
  "illinois_payload": {
   "b64z": "",
   "nb_path": "release/HW5PyHealth/HW5PyHealth.ipynb"
  },
  "kernelspec": {
   "display_name": "Python 3 (Threads: 2)",
   "language": "python",
   "name": "python3"
  },
  "language_info": {
   "codemirror_mode": {
    "name": "ipython",
    "version": 3
   },
   "file_extension": ".py",
   "mimetype": "text/x-python",
   "name": "python",
   "nbconvert_exporter": "python",
   "pygments_lexer": "ipython3",
   "version": "3.8.12"
  }
 },
 "nbformat": 4,
 "nbformat_minor": 5
}
